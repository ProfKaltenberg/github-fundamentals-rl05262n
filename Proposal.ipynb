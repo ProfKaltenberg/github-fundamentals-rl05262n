{
 "cells": [
  {
   "cell_type": "markdown",
   "metadata": {},
   "source": [
    "![](https://media.giphy.com/media/Ldepo9xvqWDYI/giphy.gif)\n",
    "\n",
    "\n"
   ]
  },
  {
   "cell_type": "markdown",
   "metadata": {},
   "source": [
    "\n",
    "You must pick data that you would like to collect for web-scraping - the data **MUST** come from APIs (none of this download csv stuff). The data set will be your final project. You can ammend and make changes later to data sources and variables. Get creative!\n",
    "\n",
    "Be mindful of the timeline - ambitious project can't be completed in 2 months, but a snapshot of it can be done. \n",
    "\n",
    "You must pick one variable that does not exist yet or is not obviously common. The variable should either be web-scraped or if it is from an API, it must be calculated (and not very common). For example, Songs per capita is commmon - you might have to calculate it, but it doesn't count. Genre concentration by state is a variable that is acceptable. Remember only **ONE** variable has to be calculated/webscraped, but you will need a total of 3 variables.\n",
    "\n",
    "In the final project, you will be providing your code and documentation (not this assignment). I will test the code you give me to make sure it runs.\n",
    "\n",
    "For my sanity - format the proposal to be organized. Include graphs, photos, examples, etc. But, please make it look professional and clean. The easier it is to read, the easier it is for me to grade, and better outcomes will likely follow.\n",
    "\n",
    "This is a proposal, so you do not have to collect the data now.\n",
    "\n",
    "In your proposal you must include:\n",
    "1. Identify the website/API that you will be web-scraping data from. You can also suggest a variety of websites via web crawling (for example, if you want to crawl websites of selected non-profit organizations and collect information about the board members - this is doable.) Go outside your comfort zone - if you've worked with APIs, then do webscraping.\n",
    "\n",
    "2. Define at least 3 variables that you will be collecting via API or webscraping. You may combine these webscraped or API collected data with other sources, but MUST cite those other datasources. You can collect data completely internally.\n",
    "\n",
    "3. If it is an open access API, get an authorization key (if neccessary), if it is not needed, also note that. Provide evidence of this with screen shot that you obtained said key or a link (and a summary in your proposal) of the documentation that says it's freely accessible.\n",
    "\n",
    "4. If it is not an open access API, ensure that you meet the terms and conditions (there is wiggle room here - but, if you are trying to crack a google related non-open access API, that's unreasonable and not possible in this class. However, if it is a Google/Amazon/InsertBigTechComp with open access API - that is do-able!). Most websites have terms and conditions, include a link to this information and briefly (a few sentences) describe what you can or can't get access to.\n",
    "\n",
    "5. Identify your research question - what are you going to analyze? Remember that after getting the data, you will make meaningful graphs and run regressions with it. \n",
    "\n",
    "6. Give me a bit of background and motivation. Why are you scraping this data? Why should you research/study this question?  This should not be personal motivation, but motivated academically."
   ]
  },
  {
   "cell_type": "code",
   "execution_count": null,
   "metadata": {},
   "outputs": [],
   "source": [
    "#I am going to be using the developper tool from RiotGames. I can access it by first logging into my account and going to my Dashboard, there’s a DEVELOPMENT API KEY. https://developer.riotgames.com/apis#val-ranked-v1 \n",
    "#right now, since I only have the free developper key, I only have access to a few things, most of the stats that I want to be working with is locked behind Production level.I have filed an application and is waiting to be approved. They said that the applications usually take 2-3 weeks to get approve. If I get approved, I would have more data to work with, if not, I will just use the free API data. \n",
    "#2. The variables are winrate=Win/lose*100, Total damage, Total Gold. These will be obtained from the API key that I request every 24 hours. \n",
    "#3. Here is a screenshot of the API. https://imgur.com/a/mQ8WgLn I am currently applying for a application there so that I can use the production API instead of refreshing after every 24 hours. \n",
    "#4. right now, I only have the personal API product key. There’s a cap for a development API key and personal product key:20 requests every 1 second100 requests every 2 minutes\n",
    "#If you register a production API key, which is much harder to register. The cap is:3,000 requests every 10 seconds180,000 requests every 10 minutes\n",
    "#PERSONAL API KEYS You may apply for a personal API key by registering your product. Personal API keys should be used for products that are intended for just the developer or a small private community. These products can be registered without the verification process, but won't be approved for rate limit increases. You may request access to the Standard APIs, but not the Tournaments API. Personal keys require a detailed description of the product. Acceptable uses for a personal API key include:\n",
    "#bots for streaming sites, boards, voice com servers, etc.to display your own personal stats for your personal website\n",
    "#personal projects to gather your own stats, personal research, projects meant for personal usage and not production, The rate limit for a personal keys is by design very limited:20 requests every 1 second, 100 requests every 2 minutes\n",
    "#Note that rate limits are enforced per region. For example, with the above rate limit, I could make 20 requests every 1 second to both the NA and EUW endpoints simultaneously.\n",
    "#5 I wish to analyze and create a model that predicts the outcome of the game based on a myriad of different factors such as gold obtained, total net worth Total damage etc. Using the different variables, I wish to calculate and predict a team's chance of victory based on the actions they take. \n",
    "#I used in combination with riotwatcher an API wrapper package . It can get all kinds of information from the API and return them as intuitive Python objects for easy use! \n",
    "#6 During quarantine I became aware of the growing scene in digital media especially those regarding Video games. I saw that \n",
    "#games are now a much bigger industry than movies and music combined. As someone were pretty 'old school' and who grew up disliking computers in general, I hope to use this project to teach myself more about sourcing different types of data and gain a better understanding to computer science. \n",
    "#Moreover, since my undergrad was heavily focused on economics, I hope to use this chance to learn more about computer science and programming.I would love to be able to create some program that could run these predictions in the future. "
   ]
  }
 ],
 "metadata": {
  "kernelspec": {
   "display_name": "Python 3",
   "language": "python",
   "name": "python3"
  },
  "language_info": {
   "codemirror_mode": {
    "name": "ipython",
    "version": 3
   },
   "file_extension": ".py",
   "mimetype": "text/x-python",
   "name": "python",
   "nbconvert_exporter": "python",
   "pygments_lexer": "ipython3",
   "version": "3.8.8"
  }
 },
 "nbformat": 4,
 "nbformat_minor": 4
}
