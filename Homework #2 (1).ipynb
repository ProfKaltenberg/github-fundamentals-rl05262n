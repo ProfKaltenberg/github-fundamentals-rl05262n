{
 "cells": [
  {
   "cell_type": "code",
   "execution_count": 139,
   "id": "287a900f",
   "metadata": {},
   "outputs": [],
   "source": [
    "#Create A list of 10 countries \n",
    "list1 = [\"France\", \"Germany\",\"China\",\"USA\",\"Canada\",\"Budapest\",\"Australia\",\"Japan\",\"Korea\",\"India\"]"
   ]
  },
  {
   "cell_type": "code",
   "execution_count": 140,
   "id": "9fb39411",
   "metadata": {},
   "outputs": [
    {
     "name": "stdout",
     "output_type": "stream",
     "text": [
      "['France', 'Germany', 'China', 'USA', 'Canada', 'Budapest', 'Australia', 'Japan', 'Korea', 'India']\n"
     ]
    }
   ],
   "source": [
    "#Assign that to a variable\n",
    "list1 = countries\n",
    "print(countries)"
   ]
  },
  {
   "cell_type": "code",
   "execution_count": 141,
   "id": "8a112259",
   "metadata": {},
   "outputs": [],
   "source": [
    "#create a dictionary \n",
    "dict1= {\"France\": \"Paris\",\n",
    " \"Germany\": \"Berlin\",\n",
    " \"China\": \"Beijing\",\n",
    " \"USA\": \"Washington\",\n",
    " \"Canada\": \"Ottawa\",\n",
    " \"Budapest\": \"Hungary\",\n",
    " \"Australia\": \"Canberra\",\n",
    " \"Japan\": \"Tokyo\",\n",
    " \"Korea\": \"Seoul\",\n",
    " \"India\": \"New Delhi\"}"
   ]
  },
  {
   "cell_type": "code",
   "execution_count": 142,
   "id": "81a14274",
   "metadata": {},
   "outputs": [
    {
     "name": "stdout",
     "output_type": "stream",
     "text": [
      "{'France': 'Paris', 'Germany': 'Berlin', 'China': 'Beijing', 'USA': 'Washington', 'Canada': 'Ottawa', 'Budapest': 'Hungary', 'Australia': 'Canberra', 'Japan': 'Tokyo', 'Korea': 'Seoul', 'India': 'New Delhi', 'Mexico': 'Mexico city'}\n"
     ]
    }
   ],
   "source": [
    "#assign that to a different variable\n",
    "dict1 = 'country_capital'\n",
    "print(country_capital)"
   ]
  },
  {
   "cell_type": "code",
   "execution_count": 143,
   "id": "78ea4d5d",
   "metadata": {},
   "outputs": [
    {
     "name": "stdout",
     "output_type": "stream",
     "text": [
      "{'France': 'Paris', 'Germany': 'Berlin', 'China': 'Beijing', 'USA': 'Washington', 'Canada': 'Ottawa', 'Budapest': 'Hungary', 'Australia': 'Canberra', 'Japan': 'Tokyo', 'Korea': 'Seoul', 'India': 'New Delhi', 'Mexico': 'Mexico city'}\n"
     ]
    }
   ],
   "source": [
    "#add another country to the dictionary you created in question 2 \n",
    "#the codes used are from https://www.w3schools.com/python/python_dictionaries_add.asp under add dic items\n",
    "country_capital[\"Mexico\"]=\"Mexico city\"\n",
    "print(country_capital)"
   ]
  },
  {
   "cell_type": "code",
   "execution_count": 144,
   "id": "58d647bf",
   "metadata": {},
   "outputs": [
    {
     "name": "stdout",
     "output_type": "stream",
     "text": [
      "['China', 'USA', 'Canada', 'Budapest', 'Australia', 'Japan']\n"
     ]
    }
   ],
   "source": [
    "#Slice your country list so that it reveals items in position 3 through 8\n",
    "print(countries[2:8])"
   ]
  },
  {
   "cell_type": "code",
   "execution_count": 146,
   "id": "e3f4a4fd",
   "metadata": {},
   "outputs": [
    {
     "name": "stdout",
     "output_type": "stream",
     "text": [
      "['China', 'Canada']\n",
      "8\n"
     ]
    }
   ],
   "source": [
    "# Write a for loop that loops through your list of countries and does the following operations\n",
    "# If that country starts with the letter c, it prints the name of that country\n",
    "# otherwise it adds 1 to a variable called \"count\"\n",
    "# Learned by folloiwng instructions on list comprehension at https://www.w3schools.com/python/python_lists_comprehension.asp \n",
    "newcountrylist = []\n",
    "count = 0\n",
    "for x in countries:\n",
    "    if \"C\" in x:\n",
    "        newcountrylist.append(x)\n",
    "    else: \n",
    "        count += 1\n",
    "print(newcountrylist)\n",
    "print(count)    "
   ]
  }
 ],
 "metadata": {
  "kernelspec": {
   "display_name": "Python 3",
   "language": "python",
   "name": "python3"
  },
  "language_info": {
   "codemirror_mode": {
    "name": "ipython",
    "version": 3
   },
   "file_extension": ".py",
   "mimetype": "text/x-python",
   "name": "python",
   "nbconvert_exporter": "python",
   "pygments_lexer": "ipython3",
   "version": "3.8.8"
  }
 },
 "nbformat": 4,
 "nbformat_minor": 5
}
