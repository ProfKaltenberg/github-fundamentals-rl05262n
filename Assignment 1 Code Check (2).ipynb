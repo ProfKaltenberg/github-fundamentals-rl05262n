{
 "cells": [
  {
   "cell_type": "markdown",
   "metadata": {},
   "source": [
    "![](https://media.giphy.com/media/ccRMvuh3PeuSGgOWVx/giphy.gif)"
   ]
  },
  {
   "cell_type": "markdown",
   "metadata": {},
   "source": [
    "Remember the rules of ~Fight~ Code Club:\n",
    "1. ALWAYS DOCUMENT\n",
    "2. Cite resources that you use (paste links)\n",
    "3. Include the names people who you worked with\n",
    "4. Be neat and organized"
   ]
  },
  {
   "cell_type": "markdown",
   "metadata": {},
   "source": [
    "# Question 1\n",
    "Identify the lists below. If they are a list, explain how you know this (syntax or function that you used). If it is not a list, tell me what it is and explain how you know this.\n",
    "\n",
    "1. `np.std()`\n",
    "2. `print(['hello', 67, 85, '25'])`\n",
    "3. `['fall','spring','summer','winter']`\n",
    "4. `{'a':1, 'b':2, 'c': 3, 'd':4, 'e':5, 'g':6}`\n",
    "5. `[[1,45],[56,89],[88,45]]`\n",
    "6. `('August','September', 'October','November','December')`"
   ]
  },
  {
   "cell_type": "code",
   "execution_count": 2,
   "metadata": {},
   "outputs": [],
   "source": [
    "#1. np.std() is not a list \n",
    "#it is used to compute the standard deviation.\n",
    "#This function returns the standard deviation of the elements\n",
    "#I know this from the lecture slides as it is one of the commands "
   ]
  },
  {
   "cell_type": "code",
   "execution_count": 7,
   "metadata": {},
   "outputs": [
    {
     "name": "stdout",
     "output_type": "stream",
     "text": [
      "['hello', 67, 85, '25']\n"
     ]
    }
   ],
   "source": [
    "print(['hello', 67, 85, '25'])\n",
    "#this is not a list, it will only become a list after you run the command. The Result is a list."
   ]
  },
  {
   "cell_type": "code",
   "execution_count": 2,
   "metadata": {},
   "outputs": [
    {
     "name": "stdout",
     "output_type": "stream",
     "text": [
      "<class 'list'>\n"
     ]
    }
   ],
   "source": [
    "list3 = ['fall','spring','summer','winter']\n",
    "print(type(list3))\n",
    "#I used the type element command to see if it is a list. And it is a list. Command used taken from https://www.w3schools.com/python/python_lists.asp"
   ]
  },
  {
   "cell_type": "code",
   "execution_count": 5,
   "metadata": {},
   "outputs": [
    {
     "name": "stdout",
     "output_type": "stream",
     "text": [
      "<class 'dict'>\n"
     ]
    }
   ],
   "source": [
    "list4 = {'a':1, 'b':2, 'c': 3, 'd':4, 'e':5, 'g':6}\n",
    "print(type(list4))\n",
    "#using the print type function, we can see that it is a dictionary. Dictionary are not lists as they cannot be duplicates\n",
    "#and are unordered. Command used taken from https://www.w3schools.com/python/python_lists.asp"
   ]
  },
  {
   "cell_type": "code",
   "execution_count": 3,
   "metadata": {},
   "outputs": [
    {
     "name": "stdout",
     "output_type": "stream",
     "text": [
      "<class 'list'>\n"
     ]
    }
   ],
   "source": [
    "list5 = [[1,45],[56,89],[88,45]]\n",
    "print(type(list5))\n",
    "#I used the print type command again to see if it is a list. And it is a list. Command used taken from https://www.w3schools.com/python/python_lists.asp"
   ]
  },
  {
   "cell_type": "code",
   "execution_count": 6,
   "metadata": {},
   "outputs": [
    {
     "name": "stdout",
     "output_type": "stream",
     "text": [
      "<class 'tuple'>\n"
     ]
    }
   ],
   "source": [
    "list6 = ('August','September', 'October','November','December')\n",
    "print(type(list6))\n",
    "#I used the print type command to see if it is a list and it is a tuple. Tuples are not list as they are immutable and surrounded \n",
    "#by the regular bracket instead of the square brackets. Command used taken from https://www.w3schools.com/python/python_lists.asp"
   ]
  },
  {
   "cell_type": "markdown",
   "metadata": {},
   "source": [
    "## Question 2\n",
    "\n",
    "1. Write a python script that prints 'even' for every even number \n",
    "2. and creates a new list of even numbers (using list comprehension)\n",
    "\n",
    "using the series: [1,2,3,7,9,34,56,70,90,123,136,148,156] "
   ]
  },
  {
   "cell_type": "code",
   "execution_count": 13,
   "metadata": {},
   "outputs": [
    {
     "name": "stdout",
     "output_type": "stream",
     "text": [
      "2 is even\n",
      "34 is even\n",
      "56 is even\n",
      "70 is even\n",
      "90 is even\n",
      "136 is even\n",
      "148 is even\n",
      "156 is even\n"
     ]
    }
   ],
   "source": [
    "series = [1,2,3,7,9,34,56,70,90,123,136,148,156] #given the series, write a python script that prints 'even' for every even number \n",
    "for n in series:        #I'm setting the specifics condition \n",
    "    if n % 2 ==0:       #here if n divides by 2 and there are no remainder, it means it is even. I used the notes from lecture slides. \n",
    "        print(\"{} is even\".format(n)) #print the message n is even, to take sure that the number is printed as well as the even, I used format function.\n",
    "                                      #The format() function returns a formatted representation of a given value specified by the format specifier.taken from  https://www.programiz.com/python-programming/methods/built-in/format"
   ]
  },
  {
   "cell_type": "code",
   "execution_count": 12,
   "metadata": {},
   "outputs": [
    {
     "name": "stdout",
     "output_type": "stream",
     "text": [
      "list of even number is = [2, 34, 56, 70, 90, 136, 148, 156]\n"
     ]
    }
   ],
   "source": [
    "series = [1,2,3,7,9,34,56,70,90,123,136,148,156] #given the series, creates a new list of even numbers (using list comprehension)\n",
    "even = [n for n in series if n % 2 ==0]  #using the list comprehension function, to create a list of even numbers.\n",
    "print(\"list of even number is = {}\".format(even))    #like before the format() function returns a formatted representation of a given value specified by the format specifier. \n",
    "                                                    #Here I want to show the whole as a list of numbers so i put the string List of even numbers at front \n",
    "                                                    #and the format(even) helps to put all the number as the list that follows taken from  https://realpython.com/list-comprehension-python/"
   ]
  },
  {
   "cell_type": "markdown",
   "metadata": {},
   "source": [
    "## Question 3\n",
    "\n",
    "Write a script that skips vowels from the following string: \"Python is for everyone!\"\n",
    "\n",
    "Be sure that this outputs in one string or list in one line."
   ]
  },
  {
   "cell_type": "code",
   "execution_count": 38,
   "metadata": {},
   "outputs": [
    {
     "name": "stdout",
     "output_type": "stream",
     "text": [
      "Pythn s fr vryn!\n"
     ]
    }
   ],
   "source": [
    "# Python program to remove vowels from a string\n",
    "def rem_vowel(string): #using the definition function, we define it as rem_vowel for a string \n",
    "    vowels = ['a','e','i','o','u']  # we make a list of all the vowels so that we can remove them \n",
    "    result = [letter for letter in string if letter.lower() not in vowels] #command to go letter by letter and see if the letter is in the vowel list if it is in the vowel list, print if not in the list\n",
    "    result = ''.join(result)    #use the.join(result) so that the final product is one whole sentence instead of just a list with individual items as letters. \n",
    "    print(result)               #command to print the result \n",
    "string = \"Python is for everyone!\"     #now we define the string. where the string is \"Python is for everyone!\"\n",
    "rem_vowel(string)                      #now we use the rem_vowel command that was defined above and get the final product "
   ]
  },
  {
   "cell_type": "markdown",
   "metadata": {},
   "source": [
    "## Question 4\n",
    "\n",
    "Use a numpy function that randomly generates numbers in an array that has the shape(8,8)"
   ]
  },
  {
   "cell_type": "code",
   "execution_count": 61,
   "metadata": {},
   "outputs": [
    {
     "name": "stdout",
     "output_type": "stream",
     "text": [
      "[[22 23 53  3 23 43 36 71]\n",
      " [45 43 69 22 41 12 73  9]\n",
      " [17 71 61 54 58 79 40 30]\n",
      " [15 48 49 81 29 65 89 51]\n",
      " [ 8  5 26 32 60 84 34 71]\n",
      " [23 22 40 34 19 78 53 54]\n",
      " [40 15 15 76 16  8 14 19]\n",
      " [48 54 57  7 39 73 83 36]]\n"
     ]
    }
   ],
   "source": [
    "import numpy as np  #import numpy under the np alias. Create an alias with the as keyword while importing: Now the NumPy package can be referred to as np instead of numpy.\n",
    "rand_int = np.random.randint(1,90,(8,8)) # define rand_int as the array and set the outputs as an 8x8 array filled with random numbers \n",
    "print(rand_int)                  #print the random array that randomly generates numbers in an array that has the shape(8,8) "
   ]
  },
  {
   "cell_type": "markdown",
   "metadata": {},
   "source": [
    "## Question 5\n",
    "Using the following arrays:\n",
    "\n",
    "a = np.array([45,86,78,300,586,686,486,794,486,58,77,93,55,83,136])\n",
    "\n",
    "b = np.array([45,67,239,555,597,264,908,562,44,58,39,57,62,58,224])\n",
    "\n",
    "Write a python code using **numpy** that:\n",
    "   1. calculates the difference between the minimum and maximum number for each earray\n",
    "   2. calculates the 75th percentile for each array\n",
    "   3. calculates the mean and standard deviation for each array\n",
    "   4. calculates the correlation coefficient between the two arrays\n",
    "    \n",
    "Please document what those numbers are in your answer. \n",
    "\n",
    "Hint: the functions for these statistics can easily be found in the lecture slides and any reference guide to python"
   ]
  },
  {
   "cell_type": "code",
   "execution_count": 3,
   "metadata": {},
   "outputs": [
    {
     "data": {
      "text/plain": [
       "749"
      ]
     },
     "execution_count": 3,
     "metadata": {},
     "output_type": "execute_result"
    }
   ],
   "source": [
    "#calculate the difference between the min and max number for each array: first to calculate the a array \n",
    "import numpy as np       #import numpy under the np alias. \n",
    "a = np.array([45,86,78,300,586,686,486,794,486,58,77,93,55,83,136]) #copy the array from above \n",
    "a.max()-a.min() #use the function to find the max which is 794- the min which is 45 "
   ]
  },
  {
   "cell_type": "code",
   "execution_count": 13,
   "metadata": {},
   "outputs": [
    {
     "data": {
      "text/plain": [
       "869"
      ]
     },
     "execution_count": 13,
     "metadata": {},
     "output_type": "execute_result"
    }
   ],
   "source": [
    "#calculate the difference between the min and max number for each array: first to calculate the a array\n",
    "import numpy as np         #import numpy under the np alias. \n",
    "b = np.array([45,67,239,555,597,264,908,562,44,58,39,57,62,58,224]) #copy the array from above \n",
    "b.max()-b.min() #use the function to find the max which is 908 the min which is 39 "
   ]
  },
  {
   "cell_type": "code",
   "execution_count": 14,
   "metadata": {},
   "outputs": [
    {
     "name": "stdout",
     "output_type": "stream",
     "text": [
      "486.0\n"
     ]
    }
   ],
   "source": [
    "#calculates the 75th percentile for each array\n",
    "#calculate A first: \n",
    "import numpy as np         #import numpy under the np alias. \n",
    "a = np.array([45,86,78,300,586,686,486,794,486,58,77,93,55,83,136])         #define the array that you want to calcualte \n",
    "p = np.percentile(a, 75)                            #define another value, p, and use the percentile command to find 75th the command used is taken from https://numpy.org/doc/stable/reference/generated/numpy.percentile.html\n",
    "print(p)                #print the outcome "
   ]
  },
  {
   "cell_type": "code",
   "execution_count": 12,
   "metadata": {},
   "outputs": [
    {
     "name": "stdout",
     "output_type": "stream",
     "text": [
      "486.0\n"
     ]
    }
   ],
   "source": [
    "#calculates the 75th percentile for each array\n",
    "#caculate for B array\n",
    "import numpy as np         #same as above, import numpy under the np alias. \n",
    "b = np.array([45,67,239,555,597,264,908,562,44,58,39,57,62,58,224])         #define the array that you want to calcualte \n",
    "p = np.percentile(a, 75)                            #define another value, p, and use the percentile command to find 75th the command used is taken from https://numpy.org/doc/stable/reference/generated/numpy.percentile.html\n",
    "print(p)                #print the outcome "
   ]
  },
  {
   "cell_type": "code",
   "execution_count": 19,
   "metadata": {},
   "outputs": [
    {
     "data": {
      "text/plain": [
       "269.93333333333334"
      ]
     },
     "execution_count": 19,
     "metadata": {},
     "output_type": "execute_result"
    }
   ],
   "source": [
    "#calculates the mean for A array \n",
    "import numpy as np         #import numpy under the np alias. \n",
    "a = np.array([45,86,78,300,586,686,486,794,486,58,77,93,55,83,136])         #define the array that you want to calcualte \n",
    "np.mean(a)                #use the command np.mean(a) to find the mean of a array. taken from https://numpy.org/doc/stable/reference/generated/numpy.mean.html"
   ]
  },
  {
   "cell_type": "code",
   "execution_count": 22,
   "metadata": {},
   "outputs": [
    {
     "data": {
      "text/plain": [
       "255.04469325111543"
      ]
     },
     "execution_count": 22,
     "metadata": {},
     "output_type": "execute_result"
    }
   ],
   "source": [
    "#calculates the standard deviation for A array \n",
    "import numpy as np         #import numpy under the np alias. \n",
    "a = np.array([45,86,78,300,586,686,486,794,486,58,77,93,55,83,136])         #define the array that you want to calcualte \n",
    "np.std(a)        #use the command np.mean(a) to find the std of a array. taken from https://numpy.org/doc/stable/reference/generated/numpy.mean.html"
   ]
  },
  {
   "cell_type": "code",
   "execution_count": 23,
   "metadata": {},
   "outputs": [
    {
     "data": {
      "text/plain": [
       "251.93333333333334"
      ]
     },
     "execution_count": 23,
     "metadata": {},
     "output_type": "execute_result"
    }
   ],
   "source": [
    "#calculates the mean for B array \n",
    "import numpy as np         #import numpy under the np alias. \n",
    "b = np.array([45,67,239,555,597,264,908,562,44,58,39,57,62,58,224])               #define the array that you want to calcualte \n",
    "np.mean(b)                #use the command np.mean(b) to find the mean of b array. taken from https://numpy.org/doc/stable/reference/generated/numpy.mean.html"
   ]
  },
  {
   "cell_type": "code",
   "execution_count": 24,
   "metadata": {},
   "outputs": [
    {
     "data": {
      "text/plain": [
       "265.0120668112219"
      ]
     },
     "execution_count": 24,
     "metadata": {},
     "output_type": "execute_result"
    }
   ],
   "source": [
    "#calculates the standard deviation for B array \n",
    "import numpy as np         #import numpy under the np alias. \n",
    "b = np.array([45,67,239,555,597,264,908,562,44,58,39,57,62,58,224])               #define the array that you want to calcualte \n",
    "np.std(b)            #use the command np.std(b) to find the std of b array. taken from https://numpy.org/doc/stable/reference/generated/numpy.mean.html"
   ]
  },
  {
   "cell_type": "code",
   "execution_count": 28,
   "metadata": {},
   "outputs": [
    {
     "data": {
      "text/plain": [
       "array([[1.        , 0.65399586],\n",
       "       [0.65399586, 1.        ]])"
      ]
     },
     "execution_count": 28,
     "metadata": {},
     "output_type": "execute_result"
    }
   ],
   "source": [
    "#calculates the correlation coefficient between the two arrays\n",
    "import numpy as np         #import numpy under the np alias. \n",
    "a = np.array([45,86,78,300,586,686,486,794,486,58,77,93,55,83,136]) #define the first array, a\n",
    "b = np.array([45,67,239,555,597,264,908,562,44,58,39,57,62,58,224]) #define the second array, b\n",
    "np.corrcoef(a, b)                 #use the command np.corrcoef(a,b) to find the correlation coefficient taken from   https://numpy.org/doc/stable/reference/generated/numpy.corrcoef.html"
   ]
  },
  {
   "cell_type": "markdown",
   "metadata": {},
   "source": [
    "## Question 6\n",
    "\n",
    "1. Import the data set \"moveidataset.csv\"\n",
    "2. Find out the average revenue for movies that start with the letter \"s\"\n",
    "3. Create a for loop that calculates the average earnings for movies that start with each letter of the alphabet (ie average for movies that start with a, average for movies that start in b).  Make sure the averages are stored in one list.\n",
    "4. Slice the above list so that you show the average earnings for movies that start with the letter l through p.\n",
    "5. Write a for loop that prints out the first five movies of each letter of the alphabet. Use a nested loop.\n",
    "6. What is the difference in average movie earnings between movies that were turned into a novel compared to movies that were note turned into a novel (ie a movie that that was turned into novel is where novel = 1)?\n",
    "7. Create a new variable (name it whatever you want) the is the ratio of revenue over budget.\n",
    "8. Export your new dataset into your repo folder with the name \"newmovieds.csv\""
   ]
  },
  {
   "cell_type": "code",
   "execution_count": 5,
   "metadata": {},
   "outputs": [
    {
     "data": {
      "text/html": [
       "<div>\n",
       "<style scoped>\n",
       "    .dataframe tbody tr th:only-of-type {\n",
       "        vertical-align: middle;\n",
       "    }\n",
       "\n",
       "    .dataframe tbody tr th {\n",
       "        vertical-align: top;\n",
       "    }\n",
       "\n",
       "    .dataframe thead th {\n",
       "        text-align: right;\n",
       "    }\n",
       "</style>\n",
       "<table border=\"1\" class=\"dataframe\">\n",
       "  <thead>\n",
       "    <tr style=\"text-align: right;\">\n",
       "      <th></th>\n",
       "      <th>Film</th>\n",
       "      <th>Budget</th>\n",
       "      <th>Revenue</th>\n",
       "      <th>Novel</th>\n",
       "    </tr>\n",
       "  </thead>\n",
       "  <tbody>\n",
       "    <tr>\n",
       "      <th>1052</th>\n",
       "      <td>s.w.a.t.</td>\n",
       "      <td>80000000</td>\n",
       "      <td>116643346</td>\n",
       "      <td>0.0</td>\n",
       "    </tr>\n",
       "    <tr>\n",
       "      <th>1053</th>\n",
       "      <td>safe haven</td>\n",
       "      <td>28000000</td>\n",
       "      <td>97594140</td>\n",
       "      <td>1.0</td>\n",
       "    </tr>\n",
       "    <tr>\n",
       "      <th>1054</th>\n",
       "      <td>safe house</td>\n",
       "      <td>85000000</td>\n",
       "      <td>208076205</td>\n",
       "      <td>0.0</td>\n",
       "    </tr>\n",
       "    <tr>\n",
       "      <th>1055</th>\n",
       "      <td>sahara</td>\n",
       "      <td>130000000</td>\n",
       "      <td>119269486</td>\n",
       "      <td>1.0</td>\n",
       "    </tr>\n",
       "    <tr>\n",
       "      <th>1056</th>\n",
       "      <td>salt</td>\n",
       "      <td>110000000</td>\n",
       "      <td>293329073</td>\n",
       "      <td>0.0</td>\n",
       "    </tr>\n",
       "    <tr>\n",
       "      <th>...</th>\n",
       "      <td>...</td>\n",
       "      <td>...</td>\n",
       "      <td>...</td>\n",
       "      <td>...</td>\n",
       "    </tr>\n",
       "    <tr>\n",
       "      <th>1206</th>\n",
       "      <td>sweet home alabama</td>\n",
       "      <td>30000000</td>\n",
       "      <td>180622424</td>\n",
       "      <td>0.0</td>\n",
       "    </tr>\n",
       "    <tr>\n",
       "      <th>1207</th>\n",
       "      <td>swing vote</td>\n",
       "      <td>21000000</td>\n",
       "      <td>17600000</td>\n",
       "      <td>0.0</td>\n",
       "    </tr>\n",
       "    <tr>\n",
       "      <th>1208</th>\n",
       "      <td>swiss army man</td>\n",
       "      <td>3000000</td>\n",
       "      <td>4210454</td>\n",
       "      <td>0.0</td>\n",
       "    </tr>\n",
       "    <tr>\n",
       "      <th>1209</th>\n",
       "      <td>sydney white</td>\n",
       "      <td>16500000</td>\n",
       "      <td>13620075</td>\n",
       "      <td>0.0</td>\n",
       "    </tr>\n",
       "    <tr>\n",
       "      <th>1210</th>\n",
       "      <td>syriana</td>\n",
       "      <td>50000000</td>\n",
       "      <td>94000000</td>\n",
       "      <td>0.0</td>\n",
       "    </tr>\n",
       "  </tbody>\n",
       "</table>\n",
       "<p>159 rows × 4 columns</p>\n",
       "</div>"
      ],
      "text/plain": [
       "                    Film     Budget    Revenue  Novel\n",
       "1052            s.w.a.t.   80000000  116643346    0.0\n",
       "1053          safe haven   28000000   97594140    1.0\n",
       "1054          safe house   85000000  208076205    0.0\n",
       "1055              sahara  130000000  119269486    1.0\n",
       "1056                salt  110000000  293329073    0.0\n",
       "...                  ...        ...        ...    ...\n",
       "1206  sweet home alabama   30000000  180622424    0.0\n",
       "1207          swing vote   21000000   17600000    0.0\n",
       "1208      swiss army man    3000000    4210454    0.0\n",
       "1209        sydney white   16500000   13620075    0.0\n",
       "1210             syriana   50000000   94000000    0.0\n",
       "\n",
       "[159 rows x 4 columns]"
      ]
     },
     "execution_count": 5,
     "metadata": {},
     "output_type": "execute_result"
    }
   ],
   "source": [
    "import pandas as pd                #command code used to import the package \n",
    "import numpy as np                 #import numpy under the np alias. \n",
    "wjp = pd.read_csv(r\"C:\\Users\\owenl\\Documents\\GitHub\\RL\\assignment-1-code-check-rl05262n\\moviedataset.csv\")       #command code to read the package and the path the package is in. \n",
    "df = pd.read_csv('moviedataset.csv')                #import the dataset and define it as df for future simple functions \n",
    "df.drop('Unnamed: 0', axis = 1, inplace = True)     #drop the column that is second to the right to have a clearer data to look at\n",
    "df['Film'] = df['Film'].str.lower() #convert all films  into lower case so that its easier to do the string start with function \n",
    "movieswiths = df[df['Film'].str.startswith('s', na=False)]     #set the condition to separate and filter specifically films that starts with  and eliminate all the others. \n",
    "movieswiths               #show the movies that start with s on the data table  #functions taken from https://pandas.pydata.org/pandas-docs/stable/user_guide/10min.html and lecture "
   ]
  },
  {
   "cell_type": "code",
   "execution_count": 6,
   "metadata": {},
   "outputs": [
    {
     "data": {
      "text/plain": [
       "183053896.7798742"
      ]
     },
     "execution_count": 6,
     "metadata": {},
     "output_type": "execute_result"
    }
   ],
   "source": [
    "movieswiths['Revenue'].mean()  #calculate mean from the Revenue Column taken from Lecture Slides "
   ]
  },
  {
   "cell_type": "code",
   "execution_count": 20,
   "metadata": {},
   "outputs": [],
   "source": [
    "#to create a for loop that calculate average earning for the movies starts with each alpabets and one list\n",
    "from string import ascii_lowercase      #this function helps to put all the ones that have potentially Capital letters into lower case \n",
    "                                        #It returns lowercase letters from a to z as a string. The returned string from this constant is not locale-dependent and will not change. Taken from https://www.codespeedy.com/python-string-ascii_lowercase/\n",
    "letter_avg = pd.DataFrame(columns = ['Letter', 'Average Revenue'])   #set what we want as letter_avg and define the two columns in our data frame as letter and average revenue taken from https://pandas.pydata.org/docs/reference/api/pandas.DataFrame.html\n",
    "for i in ascii_lowercase:                  #set the condition for our for loop, for every letter, i, in lowercase that was converted, the following applies.\n",
    "    movies = df[df['Film'].str.startswith(i, na=False)]         #using the Python standard library string method, set the condition that if the str under film starts with any letter, i, the data will specifically turn any na to be False instead of NaN.(a problem I ran into) Taken from https://pandas.pydata.org/docs/reference/api/pandas.Series.str.startswith.html\n",
    "    a_series = pd. Series([i, round(movies['Revenue'].mean(),2)], index = letter_avg.columns) #define the new series as the starting letter, i, and the mean of all the movies revenue under two decimals.and the index/column is letter_avg.columns\n",
    "    letter_avg = letter_avg.append(a_series, ignore_index=True)   #define letter_avg and use the function append to add up all the movie averages we calculated from above. Since Append rows of other to the end of caller, returning a new object. We use the ignore_index function, which is false at default, and make it True, so that the resulting axis will be labeled 0, 1, …, n - 1. taken from https://pandas.pydata.org/docs/reference/api/pandas.DataFrame.append.html"
   ]
  },
  {
   "cell_type": "code",
   "execution_count": 21,
   "metadata": {},
   "outputs": [
    {
     "data": {
      "text/html": [
       "<div>\n",
       "<style scoped>\n",
       "    .dataframe tbody tr th:only-of-type {\n",
       "        vertical-align: middle;\n",
       "    }\n",
       "\n",
       "    .dataframe tbody tr th {\n",
       "        vertical-align: top;\n",
       "    }\n",
       "\n",
       "    .dataframe thead th {\n",
       "        text-align: right;\n",
       "    }\n",
       "</style>\n",
       "<table border=\"1\" class=\"dataframe\">\n",
       "  <thead>\n",
       "    <tr style=\"text-align: right;\">\n",
       "      <th></th>\n",
       "      <th>Letter</th>\n",
       "      <th>Average Revenue</th>\n",
       "    </tr>\n",
       "  </thead>\n",
       "  <tbody>\n",
       "    <tr>\n",
       "      <th>0</th>\n",
       "      <td>a</td>\n",
       "      <td>141851810</td>\n",
       "    </tr>\n",
       "    <tr>\n",
       "      <th>1</th>\n",
       "      <td>b</td>\n",
       "      <td>115126954</td>\n",
       "    </tr>\n",
       "    <tr>\n",
       "      <th>2</th>\n",
       "      <td>c</td>\n",
       "      <td>139677697</td>\n",
       "    </tr>\n",
       "    <tr>\n",
       "      <th>3</th>\n",
       "      <td>d</td>\n",
       "      <td>144954632</td>\n",
       "    </tr>\n",
       "    <tr>\n",
       "      <th>4</th>\n",
       "      <td>e</td>\n",
       "      <td>107740125</td>\n",
       "    </tr>\n",
       "    <tr>\n",
       "      <th>5</th>\n",
       "      <td>f</td>\n",
       "      <td>191590776</td>\n",
       "    </tr>\n",
       "    <tr>\n",
       "      <th>6</th>\n",
       "      <td>g</td>\n",
       "      <td>171024419</td>\n",
       "    </tr>\n",
       "    <tr>\n",
       "      <th>7</th>\n",
       "      <td>h</td>\n",
       "      <td>200709787</td>\n",
       "    </tr>\n",
       "    <tr>\n",
       "      <th>8</th>\n",
       "      <td>i</td>\n",
       "      <td>256005429</td>\n",
       "    </tr>\n",
       "    <tr>\n",
       "      <th>9</th>\n",
       "      <td>j</td>\n",
       "      <td>157392149</td>\n",
       "    </tr>\n",
       "    <tr>\n",
       "      <th>10</th>\n",
       "      <td>k</td>\n",
       "      <td>222097121</td>\n",
       "    </tr>\n",
       "    <tr>\n",
       "      <th>11</th>\n",
       "      <td>l</td>\n",
       "      <td>110810060</td>\n",
       "    </tr>\n",
       "    <tr>\n",
       "      <th>12</th>\n",
       "      <td>m</td>\n",
       "      <td>185046766</td>\n",
       "    </tr>\n",
       "    <tr>\n",
       "      <th>13</th>\n",
       "      <td>n</td>\n",
       "      <td>141803391</td>\n",
       "    </tr>\n",
       "    <tr>\n",
       "      <th>14</th>\n",
       "      <td>o</td>\n",
       "      <td>111932473</td>\n",
       "    </tr>\n",
       "    <tr>\n",
       "      <th>15</th>\n",
       "      <td>p</td>\n",
       "      <td>174440945</td>\n",
       "    </tr>\n",
       "    <tr>\n",
       "      <th>16</th>\n",
       "      <td>q</td>\n",
       "      <td>148462543</td>\n",
       "    </tr>\n",
       "    <tr>\n",
       "      <th>17</th>\n",
       "      <td>r</td>\n",
       "      <td>148406492</td>\n",
       "    </tr>\n",
       "    <tr>\n",
       "      <th>18</th>\n",
       "      <td>s</td>\n",
       "      <td>183053896</td>\n",
       "    </tr>\n",
       "    <tr>\n",
       "      <th>19</th>\n",
       "      <td>t</td>\n",
       "      <td>170073302</td>\n",
       "    </tr>\n",
       "    <tr>\n",
       "      <th>20</th>\n",
       "      <td>u</td>\n",
       "      <td>100198027</td>\n",
       "    </tr>\n",
       "    <tr>\n",
       "      <th>21</th>\n",
       "      <td>v</td>\n",
       "      <td>111626354</td>\n",
       "    </tr>\n",
       "    <tr>\n",
       "      <th>22</th>\n",
       "      <td>w</td>\n",
       "      <td>128565490</td>\n",
       "    </tr>\n",
       "    <tr>\n",
       "      <th>23</th>\n",
       "      <td>x</td>\n",
       "      <td>495568821</td>\n",
       "    </tr>\n",
       "    <tr>\n",
       "      <th>24</th>\n",
       "      <td>y</td>\n",
       "      <td>103577446</td>\n",
       "    </tr>\n",
       "    <tr>\n",
       "      <th>25</th>\n",
       "      <td>z</td>\n",
       "      <td>203026908</td>\n",
       "    </tr>\n",
       "  </tbody>\n",
       "</table>\n",
       "</div>"
      ],
      "text/plain": [
       "   Letter  Average Revenue\n",
       "0       a        141851810\n",
       "1       b        115126954\n",
       "2       c        139677697\n",
       "3       d        144954632\n",
       "4       e        107740125\n",
       "5       f        191590776\n",
       "6       g        171024419\n",
       "7       h        200709787\n",
       "8       i        256005429\n",
       "9       j        157392149\n",
       "10      k        222097121\n",
       "11      l        110810060\n",
       "12      m        185046766\n",
       "13      n        141803391\n",
       "14      o        111932473\n",
       "15      p        174440945\n",
       "16      q        148462543\n",
       "17      r        148406492\n",
       "18      s        183053896\n",
       "19      t        170073302\n",
       "20      u        100198027\n",
       "21      v        111626354\n",
       "22      w        128565490\n",
       "23      x        495568821\n",
       "24      y        103577446\n",
       "25      z        203026908"
      ]
     },
     "execution_count": 21,
     "metadata": {},
     "output_type": "execute_result"
    }
   ],
   "source": [
    "letter_avg['Average Revenue'] = letter_avg['Average Revenue'].astype(int)         #define letter_avg Average revenue column as a interger type so that there are no float values. \n",
    "letter_avg                #show the data/table Letter_avg Below "
   ]
  },
  {
   "cell_type": "code",
   "execution_count": 9,
   "metadata": {},
   "outputs": [],
   "source": [
    "#Slice the above list so that you show the average earnings for movies that start with the letter l through p.\n",
    "slice_df = pd.DataFrame(columns = ['Letter','Average Revenue'])          #define the slice as slice_df and separate the list above by slicing and defining the columns letter and average revenue. Taken from https://pandas.pydata.org/pandas-docs/stable/user_guide/indexing.html\n",
    "for i in range(ord('i'), ord('p') + 1):                                  #set the forloop condition for the letters we want. For letter i in the range letter i to letter p+1 so that we include p,I used ord so that it returns the interger that represents letter i through letter p. \n",
    "    slice_df = slice_df.append(letter_avg[letter_avg['Letter'].str.startswith(chr(i), na=False)])  #define new slice_df as add up all the letter averages starting with if the string  of the letter starts with character i/letter i. set na=false so that the data will specifically turn any na to be False instead of NaN."
   ]
  },
  {
   "cell_type": "code",
   "execution_count": 10,
   "metadata": {},
   "outputs": [
    {
     "data": {
      "text/html": [
       "<div>\n",
       "<style scoped>\n",
       "    .dataframe tbody tr th:only-of-type {\n",
       "        vertical-align: middle;\n",
       "    }\n",
       "\n",
       "    .dataframe tbody tr th {\n",
       "        vertical-align: top;\n",
       "    }\n",
       "\n",
       "    .dataframe thead th {\n",
       "        text-align: right;\n",
       "    }\n",
       "</style>\n",
       "<table border=\"1\" class=\"dataframe\">\n",
       "  <thead>\n",
       "    <tr style=\"text-align: right;\">\n",
       "      <th></th>\n",
       "      <th>Letter</th>\n",
       "      <th>Average Revenue</th>\n",
       "    </tr>\n",
       "  </thead>\n",
       "  <tbody>\n",
       "    <tr>\n",
       "      <th>8</th>\n",
       "      <td>i</td>\n",
       "      <td>256005429</td>\n",
       "    </tr>\n",
       "    <tr>\n",
       "      <th>9</th>\n",
       "      <td>j</td>\n",
       "      <td>157392149</td>\n",
       "    </tr>\n",
       "    <tr>\n",
       "      <th>10</th>\n",
       "      <td>k</td>\n",
       "      <td>222097121</td>\n",
       "    </tr>\n",
       "    <tr>\n",
       "      <th>11</th>\n",
       "      <td>l</td>\n",
       "      <td>110810060</td>\n",
       "    </tr>\n",
       "    <tr>\n",
       "      <th>12</th>\n",
       "      <td>m</td>\n",
       "      <td>185046766</td>\n",
       "    </tr>\n",
       "    <tr>\n",
       "      <th>13</th>\n",
       "      <td>n</td>\n",
       "      <td>141803391</td>\n",
       "    </tr>\n",
       "    <tr>\n",
       "      <th>14</th>\n",
       "      <td>o</td>\n",
       "      <td>111932473</td>\n",
       "    </tr>\n",
       "    <tr>\n",
       "      <th>15</th>\n",
       "      <td>p</td>\n",
       "      <td>174440945</td>\n",
       "    </tr>\n",
       "  </tbody>\n",
       "</table>\n",
       "</div>"
      ],
      "text/plain": [
       "   Letter Average Revenue\n",
       "8       i       256005429\n",
       "9       j       157392149\n",
       "10      k       222097121\n",
       "11      l       110810060\n",
       "12      m       185046766\n",
       "13      n       141803391\n",
       "14      o       111932473\n",
       "15      p       174440945"
      ]
     },
     "execution_count": 10,
     "metadata": {},
     "output_type": "execute_result"
    }
   ],
   "source": [
    "slice_df                      #show the slice "
   ]
  },
  {
   "cell_type": "code",
   "execution_count": 19,
   "metadata": {},
   "outputs": [
    {
     "name": "stdout",
     "output_type": "stream",
     "text": [
      "['a cinderella story' 'a cure for wellness' \"a dog's purpose\"\n",
      " 'a good day to die hard' 'a good year']\n",
      "['babel' 'baby driver' 'baby mama' 'babylon a.d.' 'bad boys ii']\n",
      "['cabin fever' 'calendar girls' 'capitalism: a love story' 'capote'\n",
      " 'captain america: civil war']\n",
      "['daddy day camp' 'daddy day care' \"daddy's home\" 'dallas buyers club'\n",
      " 'dan in real life']\n",
      "['eagle eye' 'earth to echo' 'eastern promises' 'easy a' 'eat pray love']\n",
      "['fahrenheit 9/11' 'failure to launch' 'fantastic four' 'fantastic four'\n",
      " 'fantastic mr. fox']\n",
      "['g-force' 'g.i. joe: retaliation' 'g.i. joe: the rise of cobra' 'gamer'\n",
      " 'gangs of new york']\n",
      "['hacksaw ridge' 'hail, caesar!' 'hall pass' 'halloween: resurrection'\n",
      " 'hancock']\n",
      "['i am legend' 'i am number four' \"i don't know how she does it\"\n",
      " 'i know who killed me' 'i love you, man']\n",
      "['j. edgar' 'jack and jill' 'jack reacher' 'jack reacher: never go back'\n",
      " 'jack ryan: shadow recruit']\n",
      "['k-19: the widowmaker' 'katy perry: part of me' 'keanu'\n",
      " 'keeping up with the joneses' 'kick-ass']\n",
      "['la la land' 'labor day' 'ladder 49' 'lady in the water'\n",
      " 'lakeview terrace']\n",
      "['macgruber' 'machete' 'machete kills' 'mad max: fury road' 'madagascar']\n",
      "['nacho libre' 'nanny mcphee' 'napoleon dynamite' 'narc'\n",
      " 'national treasure']\n",
      "['oblivion' 'obsessed' \"ocean's thirteen\" \"ocean's twelve\" 'oculus']\n",
      "['p.s. i love you' 'p2' 'pacific rim' 'paddington' 'pan']\n",
      "['quantum of solace' 'quarantine' 'quartet' 'queen of katwe'\n",
      " 'queen of the damned']\n",
      "['r.i.p.d.' 'race to witch mountain' 'racing stripes' 'radio'\n",
      " 'raise your voice']\n",
      "['s.w.a.t.' 'safe haven' 'safe house' 'sahara' 'salt']\n",
      "['table 19' 'take me home tonight' 'take the lead' 'taken' 'taken 2']\n",
      "['u2 3d' 'ultraviolet' 'unbroken' 'under the tuscan sun'\n",
      " 'undercover brother']\n",
      "['v for vendetta' 'vacancy' 'vacation' \"valentine's day\"\n",
      " 'valerian and the city of a thousand planets']\n",
      "['w.' 'waiting...' 'waitress' 'walk hard: the dewey cox story'\n",
      " 'walk the line']\n",
      "['x-men origins: wolverine' 'x-men: apocalypse'\n",
      " 'x-men: days of future past' 'x-men: first class' 'x-men: the last stand']\n",
      "['year one' 'yes man' 'yogi bear' 'you again'\n",
      " \"you don't mess with the zohan\"]\n",
      "['zack and miri make a porno' 'zero dark thirty' 'zodiac' 'zombieland'\n",
      " 'zookeeper']\n"
     ]
    }
   ],
   "source": [
    "#Write for loop that prints first 5 movies of each letters of alphabets\n",
    "df = df.sort_values(by= ['Film'], ascending = True) #to make sure that the films are in order, we sort by ascending so that the letters are a to z. \n",
    "from string import ascii_lowercase           #same as above, to make sure all the films are in lower letters, we use the command from string import lowercase. \n",
    "for i in ascii_lowercase:                    #set the for loop for the condition that for each lower case letter of the alphabete, i, the movies will go through the loop below\n",
    "    movies = df[df['Film'].str.startswith(i, na=False)]    #define movies as the datafunction where under the column string Film, if the string starts with letter, i, any letter in the alphbete.  since like above,we set na=flase so that the data will specifically turn any na to be False instead of NaN.Taken from https://pandas.pydata.org/docs/reference/api/pandas.Series.str.startswith.html\n",
    "    movies.reset_index(drop =True, inplace = True)       #use c.reset index to reset the index as well as dropping the old index. the drop is there to make sure we avoid the old index being added as a column and inplace is there to replace the old column taken from https://pandas.pydata.org/docs/reference/api/pandas.DataFrame.reset_index.html\n",
    "    print(movies.loc[0:4,'Film'].values)          #Print each of the first 5 movies loc[0:4] that are listed under Film. where 0 is the first movie, 1 is the second etc\n",
    "                                                  #i used loc to make sure that it outputs a single label, returning the row as a Series. taken from https://pandas.pydata.org/docs/reference/api/pandas.DataFrame.loc.html"
   ]
  },
  {
   "cell_type": "code",
   "execution_count": 14,
   "metadata": {},
   "outputs": [
    {
     "data": {
      "text/html": [
       "<div>\n",
       "<style scoped>\n",
       "    .dataframe tbody tr th:only-of-type {\n",
       "        vertical-align: middle;\n",
       "    }\n",
       "\n",
       "    .dataframe tbody tr th {\n",
       "        vertical-align: top;\n",
       "    }\n",
       "\n",
       "    .dataframe thead th {\n",
       "        text-align: right;\n",
       "    }\n",
       "</style>\n",
       "<table border=\"1\" class=\"dataframe\">\n",
       "  <thead>\n",
       "    <tr style=\"text-align: right;\">\n",
       "      <th></th>\n",
       "      <th>Film</th>\n",
       "      <th>Budget</th>\n",
       "      <th>Revenue</th>\n",
       "      <th>Novel</th>\n",
       "    </tr>\n",
       "  </thead>\n",
       "  <tbody>\n",
       "    <tr>\n",
       "      <th>0</th>\n",
       "      <td>(500) days of summer</td>\n",
       "      <td>7500000</td>\n",
       "      <td>60722734</td>\n",
       "      <td>0.0</td>\n",
       "    </tr>\n",
       "    <tr>\n",
       "      <th>1</th>\n",
       "      <td>10 cloverfield lane</td>\n",
       "      <td>15000000</td>\n",
       "      <td>108286421</td>\n",
       "      <td>0.0</td>\n",
       "    </tr>\n",
       "    <tr>\n",
       "      <th>2</th>\n",
       "      <td>12 rounds</td>\n",
       "      <td>20000000</td>\n",
       "      <td>17280326</td>\n",
       "      <td>0.0</td>\n",
       "    </tr>\n",
       "    <tr>\n",
       "      <th>4</th>\n",
       "      <td>127 hours</td>\n",
       "      <td>18000000</td>\n",
       "      <td>35692920</td>\n",
       "      <td>0.0</td>\n",
       "    </tr>\n",
       "    <tr>\n",
       "      <th>5</th>\n",
       "      <td>13 going on 30</td>\n",
       "      <td>37000000</td>\n",
       "      <td>96455697</td>\n",
       "      <td>0.0</td>\n",
       "    </tr>\n",
       "    <tr>\n",
       "      <th>...</th>\n",
       "      <td>...</td>\n",
       "      <td>...</td>\n",
       "      <td>...</td>\n",
       "      <td>...</td>\n",
       "    </tr>\n",
       "    <tr>\n",
       "      <th>1756</th>\n",
       "      <td>zodiac</td>\n",
       "      <td>65000000</td>\n",
       "      <td>84785914</td>\n",
       "      <td>0.0</td>\n",
       "    </tr>\n",
       "    <tr>\n",
       "      <th>1757</th>\n",
       "      <td>zombieland</td>\n",
       "      <td>23600000</td>\n",
       "      <td>102391382</td>\n",
       "      <td>0.0</td>\n",
       "    </tr>\n",
       "    <tr>\n",
       "      <th>1758</th>\n",
       "      <td>zookeeper</td>\n",
       "      <td>80000000</td>\n",
       "      <td>169852759</td>\n",
       "      <td>0.0</td>\n",
       "    </tr>\n",
       "    <tr>\n",
       "      <th>1759</th>\n",
       "      <td>zoolander 2</td>\n",
       "      <td>50000000</td>\n",
       "      <td>55969000</td>\n",
       "      <td>0.0</td>\n",
       "    </tr>\n",
       "    <tr>\n",
       "      <th>1761</th>\n",
       "      <td>zootopia</td>\n",
       "      <td>150000000</td>\n",
       "      <td>1023784195</td>\n",
       "      <td>0.0</td>\n",
       "    </tr>\n",
       "  </tbody>\n",
       "</table>\n",
       "<p>1435 rows × 4 columns</p>\n",
       "</div>"
      ],
      "text/plain": [
       "                      Film     Budget     Revenue  Novel\n",
       "0     (500) days of summer    7500000    60722734    0.0\n",
       "1      10 cloverfield lane   15000000   108286421    0.0\n",
       "2                12 rounds   20000000    17280326    0.0\n",
       "4                127 hours   18000000    35692920    0.0\n",
       "5           13 going on 30   37000000    96455697    0.0\n",
       "...                    ...        ...         ...    ...\n",
       "1756                zodiac   65000000    84785914    0.0\n",
       "1757            zombieland   23600000   102391382    0.0\n",
       "1758             zookeeper   80000000   169852759    0.0\n",
       "1759           zoolander 2   50000000    55969000    0.0\n",
       "1761              zootopia  150000000  1023784195    0.0\n",
       "\n",
       "[1435 rows x 4 columns]"
      ]
     },
     "execution_count": 14,
     "metadata": {},
     "output_type": "execute_result"
    }
   ],
   "source": [
    "#What is the difference in average movie earnings between movies that were turned into a novel compared to movies that were note turned into a novel (ie a movie that that was turned into novel is where novel = 1)?\n",
    "movies_without_novel = df[df['Novel'] == 0] #group all the movies that were not turned into novels, ie, where under column novel is 0,\n",
    "movies_without_novel                   #show all the movies that were not turned into novels, where novel = 0"
   ]
  },
  {
   "cell_type": "code",
   "execution_count": 15,
   "metadata": {},
   "outputs": [
    {
     "data": {
      "text/html": [
       "<div>\n",
       "<style scoped>\n",
       "    .dataframe tbody tr th:only-of-type {\n",
       "        vertical-align: middle;\n",
       "    }\n",
       "\n",
       "    .dataframe tbody tr th {\n",
       "        vertical-align: top;\n",
       "    }\n",
       "\n",
       "    .dataframe thead th {\n",
       "        text-align: right;\n",
       "    }\n",
       "</style>\n",
       "<table border=\"1\" class=\"dataframe\">\n",
       "  <thead>\n",
       "    <tr style=\"text-align: right;\">\n",
       "      <th></th>\n",
       "      <th>Film</th>\n",
       "      <th>Budget</th>\n",
       "      <th>Revenue</th>\n",
       "      <th>Novel</th>\n",
       "    </tr>\n",
       "  </thead>\n",
       "  <tbody>\n",
       "    <tr>\n",
       "      <th>3</th>\n",
       "      <td>12 years a slave</td>\n",
       "      <td>20000000</td>\n",
       "      <td>187000000</td>\n",
       "      <td>1.0</td>\n",
       "    </tr>\n",
       "    <tr>\n",
       "      <th>32</th>\n",
       "      <td>90 minutes in heaven</td>\n",
       "      <td>5000000</td>\n",
       "      <td>4842699</td>\n",
       "      <td>1.0</td>\n",
       "    </tr>\n",
       "    <tr>\n",
       "      <th>36</th>\n",
       "      <td>a dog's purpose</td>\n",
       "      <td>22000000</td>\n",
       "      <td>194647323</td>\n",
       "      <td>1.0</td>\n",
       "    </tr>\n",
       "    <tr>\n",
       "      <th>38</th>\n",
       "      <td>a good year</td>\n",
       "      <td>35000000</td>\n",
       "      <td>42064105</td>\n",
       "      <td>1.0</td>\n",
       "    </tr>\n",
       "    <tr>\n",
       "      <th>48</th>\n",
       "      <td>a most wanted man</td>\n",
       "      <td>15000000</td>\n",
       "      <td>31554855</td>\n",
       "      <td>1.0</td>\n",
       "    </tr>\n",
       "    <tr>\n",
       "      <th>...</th>\n",
       "      <td>...</td>\n",
       "      <td>...</td>\n",
       "      <td>...</td>\n",
       "      <td>...</td>\n",
       "    </tr>\n",
       "    <tr>\n",
       "      <th>1709</th>\n",
       "      <td>what's your number?</td>\n",
       "      <td>20000000</td>\n",
       "      <td>30426096</td>\n",
       "      <td>1.0</td>\n",
       "    </tr>\n",
       "    <tr>\n",
       "      <th>1715</th>\n",
       "      <td>whip it</td>\n",
       "      <td>15000000</td>\n",
       "      <td>16633035</td>\n",
       "      <td>1.0</td>\n",
       "    </tr>\n",
       "    <tr>\n",
       "      <th>1728</th>\n",
       "      <td>winter's tale</td>\n",
       "      <td>60000000</td>\n",
       "      <td>30800231</td>\n",
       "      <td>1.0</td>\n",
       "    </tr>\n",
       "    <tr>\n",
       "      <th>1736</th>\n",
       "      <td>world war z</td>\n",
       "      <td>200000000</td>\n",
       "      <td>531865000</td>\n",
       "      <td>1.0</td>\n",
       "    </tr>\n",
       "    <tr>\n",
       "      <th>1760</th>\n",
       "      <td>zoom</td>\n",
       "      <td>35000000</td>\n",
       "      <td>12506188</td>\n",
       "      <td>1.0</td>\n",
       "    </tr>\n",
       "  </tbody>\n",
       "</table>\n",
       "<p>327 rows × 4 columns</p>\n",
       "</div>"
      ],
      "text/plain": [
       "                      Film     Budget    Revenue  Novel\n",
       "3         12 years a slave   20000000  187000000    1.0\n",
       "32    90 minutes in heaven    5000000    4842699    1.0\n",
       "36         a dog's purpose   22000000  194647323    1.0\n",
       "38             a good year   35000000   42064105    1.0\n",
       "48       a most wanted man   15000000   31554855    1.0\n",
       "...                    ...        ...        ...    ...\n",
       "1709   what's your number?   20000000   30426096    1.0\n",
       "1715               whip it   15000000   16633035    1.0\n",
       "1728         winter's tale   60000000   30800231    1.0\n",
       "1736           world war z  200000000  531865000    1.0\n",
       "1760                  zoom   35000000   12506188    1.0\n",
       "\n",
       "[327 rows x 4 columns]"
      ]
     },
     "execution_count": 15,
     "metadata": {},
     "output_type": "execute_result"
    }
   ],
   "source": [
    "movies_with_novel = df[df['Novel'] == 1]       #group all the movies that were turned into novels, ie, where under column novel is 1, \n",
    "movies_with_novel                               #show all the movies that were turned into novels, where novel = 1"
   ]
  },
  {
   "cell_type": "code",
   "execution_count": 23,
   "metadata": {},
   "outputs": [
    {
     "data": {
      "text/html": [
       "<div>\n",
       "<style scoped>\n",
       "    .dataframe tbody tr th:only-of-type {\n",
       "        vertical-align: middle;\n",
       "    }\n",
       "\n",
       "    .dataframe tbody tr th {\n",
       "        vertical-align: top;\n",
       "    }\n",
       "\n",
       "    .dataframe thead th {\n",
       "        text-align: right;\n",
       "    }\n",
       "</style>\n",
       "<table border=\"1\" class=\"dataframe\">\n",
       "  <thead>\n",
       "    <tr style=\"text-align: right;\">\n",
       "      <th></th>\n",
       "      <th>Movies Category</th>\n",
       "      <th>Earning Average</th>\n",
       "    </tr>\n",
       "  </thead>\n",
       "  <tbody>\n",
       "    <tr>\n",
       "      <th>0</th>\n",
       "      <td>Movies With novel</td>\n",
       "      <td>179383963</td>\n",
       "    </tr>\n",
       "    <tr>\n",
       "      <th>1</th>\n",
       "      <td>Movies Without novel</td>\n",
       "      <td>157337143</td>\n",
       "    </tr>\n",
       "  </tbody>\n",
       "</table>\n",
       "</div>"
      ],
      "text/plain": [
       "        Movies Category  Earning Average\n",
       "0     Movies With novel        179383963\n",
       "1  Movies Without novel        157337143"
      ]
     },
     "execution_count": 23,
     "metadata": {},
     "output_type": "execute_result"
    }
   ],
   "source": [
    "novel_df = pd.DataFrame({'Movies Category':['Movies With novel', 'Movies Without novel'], 'Earning Average':[round(movies_with_novel['Revenue'].mean(),2),round(movies_without_novel['Revenue'].mean(),2)]}) #set a new data frame \n",
    "                                                                                                                                                                                                            #and define the column as movies category and earning averages where under movies \n",
    "                                                                                                                                                                                                            #there are two types of strings as rows, movies with novel or movie with novel\n",
    "                                                                                                                                                                                                            #define the earning average column with two datasets, averages from movies with and without novel\n",
    "                                                                                                                                                                                                            #and take the mean of the previous data set of both movies with/without novels under revenue and round it to 2 decimals \n",
    "novel_df['Earning Average'] = novel_df['Earning Average'].astype(int)          #define the data frame with string earning average and change the type to interger instead of floats with decimals. taken from https://pandas.pydata.org/docs/reference/api/pandas.DataFrame.astype.html\n",
    "novel_df             #show the result"
   ]
  },
  {
   "cell_type": "code",
   "execution_count": 17,
   "metadata": {},
   "outputs": [
    {
     "data": {
      "text/html": [
       "<div>\n",
       "<style scoped>\n",
       "    .dataframe tbody tr th:only-of-type {\n",
       "        vertical-align: middle;\n",
       "    }\n",
       "\n",
       "    .dataframe tbody tr th {\n",
       "        vertical-align: top;\n",
       "    }\n",
       "\n",
       "    .dataframe thead th {\n",
       "        text-align: right;\n",
       "    }\n",
       "</style>\n",
       "<table border=\"1\" class=\"dataframe\">\n",
       "  <thead>\n",
       "    <tr style=\"text-align: right;\">\n",
       "      <th></th>\n",
       "      <th>Film</th>\n",
       "      <th>Budget</th>\n",
       "      <th>Revenue</th>\n",
       "      <th>Novel</th>\n",
       "      <th>revenue ratio</th>\n",
       "    </tr>\n",
       "  </thead>\n",
       "  <tbody>\n",
       "    <tr>\n",
       "      <th>0</th>\n",
       "      <td>(500) days of summer</td>\n",
       "      <td>7500000</td>\n",
       "      <td>60722734</td>\n",
       "      <td>0.0</td>\n",
       "      <td>0.123512</td>\n",
       "    </tr>\n",
       "    <tr>\n",
       "      <th>1</th>\n",
       "      <td>10 cloverfield lane</td>\n",
       "      <td>15000000</td>\n",
       "      <td>108286421</td>\n",
       "      <td>0.0</td>\n",
       "      <td>0.138522</td>\n",
       "    </tr>\n",
       "    <tr>\n",
       "      <th>2</th>\n",
       "      <td>12 rounds</td>\n",
       "      <td>20000000</td>\n",
       "      <td>17280326</td>\n",
       "      <td>0.0</td>\n",
       "      <td>1.157386</td>\n",
       "    </tr>\n",
       "    <tr>\n",
       "      <th>3</th>\n",
       "      <td>12 years a slave</td>\n",
       "      <td>20000000</td>\n",
       "      <td>187000000</td>\n",
       "      <td>1.0</td>\n",
       "      <td>0.106952</td>\n",
       "    </tr>\n",
       "    <tr>\n",
       "      <th>4</th>\n",
       "      <td>127 hours</td>\n",
       "      <td>18000000</td>\n",
       "      <td>35692920</td>\n",
       "      <td>0.0</td>\n",
       "      <td>0.504302</td>\n",
       "    </tr>\n",
       "    <tr>\n",
       "      <th>...</th>\n",
       "      <td>...</td>\n",
       "      <td>...</td>\n",
       "      <td>...</td>\n",
       "      <td>...</td>\n",
       "      <td>...</td>\n",
       "    </tr>\n",
       "    <tr>\n",
       "      <th>1757</th>\n",
       "      <td>zombieland</td>\n",
       "      <td>23600000</td>\n",
       "      <td>102391382</td>\n",
       "      <td>0.0</td>\n",
       "      <td>0.230488</td>\n",
       "    </tr>\n",
       "    <tr>\n",
       "      <th>1758</th>\n",
       "      <td>zookeeper</td>\n",
       "      <td>80000000</td>\n",
       "      <td>169852759</td>\n",
       "      <td>0.0</td>\n",
       "      <td>0.470996</td>\n",
       "    </tr>\n",
       "    <tr>\n",
       "      <th>1759</th>\n",
       "      <td>zoolander 2</td>\n",
       "      <td>50000000</td>\n",
       "      <td>55969000</td>\n",
       "      <td>0.0</td>\n",
       "      <td>0.893352</td>\n",
       "    </tr>\n",
       "    <tr>\n",
       "      <th>1760</th>\n",
       "      <td>zoom</td>\n",
       "      <td>35000000</td>\n",
       "      <td>12506188</td>\n",
       "      <td>1.0</td>\n",
       "      <td>2.798615</td>\n",
       "    </tr>\n",
       "    <tr>\n",
       "      <th>1761</th>\n",
       "      <td>zootopia</td>\n",
       "      <td>150000000</td>\n",
       "      <td>1023784195</td>\n",
       "      <td>0.0</td>\n",
       "      <td>0.146515</td>\n",
       "    </tr>\n",
       "  </tbody>\n",
       "</table>\n",
       "<p>1762 rows × 5 columns</p>\n",
       "</div>"
      ],
      "text/plain": [
       "                      Film     Budget     Revenue  Novel  revenue ratio\n",
       "0     (500) days of summer    7500000    60722734    0.0       0.123512\n",
       "1      10 cloverfield lane   15000000   108286421    0.0       0.138522\n",
       "2                12 rounds   20000000    17280326    0.0       1.157386\n",
       "3         12 years a slave   20000000   187000000    1.0       0.106952\n",
       "4                127 hours   18000000    35692920    0.0       0.504302\n",
       "...                    ...        ...         ...    ...            ...\n",
       "1757            zombieland   23600000   102391382    0.0       0.230488\n",
       "1758             zookeeper   80000000   169852759    0.0       0.470996\n",
       "1759           zoolander 2   50000000    55969000    0.0       0.893352\n",
       "1760                  zoom   35000000    12506188    1.0       2.798615\n",
       "1761              zootopia  150000000  1023784195    0.0       0.146515\n",
       "\n",
       "[1762 rows x 5 columns]"
      ]
     },
     "execution_count": 17,
     "metadata": {},
     "output_type": "execute_result"
    }
   ],
   "source": [
    "#Cost revenue ratio \n",
    "df['revenue ratio'] = df['Budget']/df['Revenue'] #now to caculate the cost revenue ratio we define it as Cost revenue ratio = cost of revenue / total revenue we divide the whole column under the string budget by the whole column under string revnue \n",
    "df                                              #to show the datafunction that we just modified "
   ]
  },
  {
   "cell_type": "code",
   "execution_count": 18,
   "metadata": {},
   "outputs": [],
   "source": [
    "df.to_csv('newmovieds.csv') #Export the new dataset into my repo folder with the name \"newmovieds.csv\" function taken from Lecture slide."
   ]
  }
 ],
 "metadata": {
  "kernelspec": {
   "display_name": "Python 3",
   "language": "python",
   "name": "python3"
  },
  "language_info": {
   "codemirror_mode": {
    "name": "ipython",
    "version": 3
   },
   "file_extension": ".py",
   "mimetype": "text/x-python",
   "name": "python",
   "nbconvert_exporter": "python",
   "pygments_lexer": "ipython3",
   "version": "3.8.8"
  }
 },
 "nbformat": 4,
 "nbformat_minor": 4
}
