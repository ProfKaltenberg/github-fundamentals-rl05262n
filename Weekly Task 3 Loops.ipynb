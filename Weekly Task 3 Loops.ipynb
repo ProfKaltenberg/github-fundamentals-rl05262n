{
 "cells": [
  {
   "cell_type": "markdown",
   "metadata": {},
   "source": [
    "# Weekly Task 2 - Roller Coaster Loops\n",
    "![wooo!](https://media.giphy.com/media/SNrC0OKr4YP2U/giphy.gif?cid=ecf05e47lnb8o893cghul7mragm4n7ric88y6ka94wp4r25f&rid=giphy.gif&ct=g)"
   ]
  },
  {
   "cell_type": "markdown",
   "metadata": {},
   "source": [
    "Remember the rules of ~Fight~ Code Club:\n",
    "1. ALWAYS DOCUMENT\n",
    "2. Cite resources that you use (paste links)\n",
    "3. Include the names people who you worked with\n",
    "4. Be neat and organized"
   ]
  },
  {
   "cell_type": "markdown",
   "metadata": {},
   "source": [
    "### 1.  Write a python script using a for loop and range function that prints numbers 30 through 100 by every 10 except 70."
   ]
  },
  {
   "cell_type": "code",
   "execution_count": 39,
   "metadata": {},
   "outputs": [
    {
     "name": "stdout",
     "output_type": "stream",
     "text": [
      "30\n",
      "40\n",
      "50\n",
      "60\n",
      "80\n",
      "90\n",
      "100\n"
     ]
    }
   ],
   "source": [
    "for i in range(30, 101, 10): #start with the basic for loop function, for x in. Then add in the range function. Range (x,y,z) \n",
    "                            #where x is the start, y is the end by does not include the number so to end at 100, we end at 101. \n",
    "                            # and z is the specified increment value.\n",
    "    if i == 70: \n",
    "        pass                #to make an exception, I used the pass command, which is a null statement so nothing happens. learned from https://pynative.com/python-for-loop/#h-for-loop-with-range\n",
    "    else:                   #used else to continue the code \n",
    "        print(i)            #print(x) to finish the code "
   ]
  },
  {
   "cell_type": "code",
   "execution_count": 36,
   "metadata": {},
   "outputs": [
    {
     "name": "stdout",
     "output_type": "stream",
     "text": [
      "30\n",
      "40\n",
      "50\n",
      "60\n",
      "80\n",
      "90\n",
      "100\n"
     ]
    }
   ],
   "source": [
    "for i in range(30, 101, 10): #alternative solution? I start with the basic for loop function, for x in. Then add in the range function. Range (x,y,z) \n",
    "                            #where x is the start, y is the end by does not include the number so to end at 100, we end at 101. \n",
    "                            # and z is the specified increment value.In this case every 10. \n",
    "    if i == 70: \n",
    "        continue            #to make an exception, I used continue here, which skips the code for the current iteration only. learned from https://pynative.com/python-for-loop/#h-for-loop-with-range\n",
    "    else:                   #used else to continue the code \n",
    "        print(i)            #print(x) to finish the code the result is the same as the pass above. "
   ]
  },
  {
   "cell_type": "markdown",
   "metadata": {},
   "source": [
    "### 2. Write a while loop that calculates celsius to farenheit from 0 up to and including 38 celsius (hint: (32°F − 32) × 5/9 = 0°C)\n"
   ]
  },
  {
   "cell_type": "code",
   "execution_count": 136,
   "metadata": {},
   "outputs": [
    {
     "name": "stdout",
     "output_type": "stream",
     "text": [
      "0 32.0\n",
      "1 33.8\n",
      "2 35.6\n",
      "3 37.4\n",
      "4 39.2\n",
      "5 41.0\n",
      "6 42.8\n",
      "7 44.6\n",
      "8 46.4\n",
      "9 48.2\n",
      "10 50.0\n",
      "11 51.8\n",
      "12 53.6\n",
      "13 55.400000000000006\n",
      "14 57.2\n",
      "15 59.0\n",
      "16 60.8\n",
      "17 62.6\n",
      "18 64.4\n",
      "19 66.2\n",
      "20 68.0\n",
      "21 69.80000000000001\n",
      "22 71.6\n",
      "23 73.4\n",
      "24 75.2\n",
      "25 77.0\n",
      "26 78.80000000000001\n",
      "27 80.6\n",
      "28 82.4\n",
      "29 84.2\n",
      "30 86.0\n",
      "31 87.80000000000001\n",
      "32 89.6\n",
      "33 91.4\n",
      "34 93.2\n",
      "35 95.0\n",
      "36 96.8\n",
      "37 98.60000000000001\n",
      "38 100.4\n"
     ]
    }
   ],
   "source": [
    "i = 32           #set i as the farenheit\n",
    "y = 0            #y variable as the celsius \n",
    "while i>0:       #I need to set the while condition \n",
    "    i = 9/5*y+32 #Since I want to list each step, I input a equation that will calculate celsius to farenheit  \n",
    "    y += 1       #here I set the interval for which y increases \n",
    "    if y > 39:   #set the if condition here so that it doesnt continue after 38. \n",
    "        break      \n",
    "    print(y-1,i) #finally print the variable "
   ]
  },
  {
   "cell_type": "markdown",
   "metadata": {},
   "source": [
    "### 3. Write a script with a nested for loop that prints out every month and then prints out the total days of the month. "
   ]
  },
  {
   "cell_type": "code",
   "execution_count": 16,
   "metadata": {},
   "outputs": [
    {
     "name": "stdout",
     "output_type": "stream",
     "text": [
      "January 31\n",
      "February 28\n",
      "March 31\n",
      "April 30\n",
      "May 31\n",
      "June 30\n",
      "July 31\n",
      "August 31\n",
      "September 30\n",
      "October 31\n",
      "November 30\n",
      "December 31\n"
     ]
    }
   ],
   "source": [
    "months = [\"January\", \"February\", \"March\", \"April\", \"May\", \"June\", \"July\", \"August\", \"September\", \"October\", \"November\", \"December\"]\n",
    "#make a list of all the months \n",
    "longmonths = [\"January\", \"March\", \"May\", \"July\", \"August\", \"October\", \"December\"]\n",
    "#make a list of all the long months \n",
    "for m in months:      #set the condition, \n",
    "    if m in longmonths: #if m is in the list of longmonths, the day would be 31\n",
    "        d = 31\n",
    "    elif m == \"February\" :  #if m is Febryary, the day would be 28\n",
    "        d = 28                  \n",
    "    else:                  #lastly, all else would be 30\n",
    "        d = 30\n",
    "    print(m,d)             #print the result "
   ]
  },
  {
   "cell_type": "code",
   "execution_count": 18,
   "metadata": {},
   "outputs": [
    {
     "name": "stdout",
     "output_type": "stream",
     "text": [
      "January 31\n",
      "February 28\n",
      "March 31\n",
      "April 30\n",
      "May 31\n",
      "June 30\n",
      "July 31\n",
      "August 31\n",
      "September 30\n",
      "October 31\n",
      "November 30\n",
      "December 31\n"
     ]
    }
   ],
   "source": [
    "#Alternative way to do it Create a list with months\n",
    "months = [\"January\",\"February\",\"March\",\"April\",\"May\",\"June\",\"July\",\"August\",\"September\",\"October\",\"November\",\"December\"]\n",
    "#first make a list that has all the months in it. \n",
    "days_of_Month =[31,28,31,30,31,30,31,31,30,31,30,31] #Create a list with days of each month in order\n",
    "for i in range(len(months)):         #Use nested loop to print month and days, use the lens function to returns the number of items in the list. https://www.w3schools.com/python/python_for_loops.asp\n",
    "    for j in range(len(days_of_Month)): #again, use lens function to get the index\n",
    "        if i==j:           #Check to make sure a month is printed only once\n",
    "            print (months[i], days_of_Month[j]) #print it as a list "
   ]
  },
  {
   "cell_type": "code",
   "execution_count": null,
   "metadata": {},
   "outputs": [],
   "source": []
  }
 ],
 "metadata": {
  "kernelspec": {
   "display_name": "Python 3",
   "language": "python",
   "name": "python3"
  },
  "language_info": {
   "codemirror_mode": {
    "name": "ipython",
    "version": 3
   },
   "file_extension": ".py",
   "mimetype": "text/x-python",
   "name": "python",
   "nbconvert_exporter": "python",
   "pygments_lexer": "ipython3",
   "version": "3.8.8"
  }
 },
 "nbformat": 4,
 "nbformat_minor": 4
}
